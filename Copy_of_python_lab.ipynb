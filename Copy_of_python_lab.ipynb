{
  "nbformat": 4,
  "nbformat_minor": 0,
  "metadata": {
    "colab": {
      "provenance": [],
      "include_colab_link": true
    },
    "kernelspec": {
      "name": "python3",
      "display_name": "Python 3"
    },
    "language_info": {
      "name": "python"
    }
  },
  "cells": [
    {
      "cell_type": "markdown",
      "metadata": {
        "id": "view-in-github",
        "colab_type": "text"
      },
      "source": [
        "<a href=\"https://colab.research.google.com/github/Princekumarmehta/ADS_LAB/blob/master/Copy_of_python_lab.ipynb\" target=\"_parent\"><img src=\"https://colab.research.google.com/assets/colab-badge.svg\" alt=\"Open In Colab\"/></a>"
      ]
    },
    {
      "cell_type": "code",
      "execution_count": null,
      "metadata": {
        "id": "Q4mpP0gti2fP",
        "colab": {
          "base_uri": "https://localhost:8080/"
        },
        "outputId": "749dc374-ec2c-4f66-f7e3-b99a9de10b09"
      },
      "outputs": [
        {
          "output_type": "stream",
          "name": "stdout",
          "text": [
            "Enter the file name: hi.txt\n",
            "Enter the character to count: j\n",
            "The character 'j' appears 1 times in the file.\n",
            "Hi im Priyanka.\n",
            "hello world..\n",
            "Shayari hain..\n",
            "Jo meri hora hain..\n"
          ]
        }
      ],
      "source": [
        "#1a\n",
        "def count_char_and_display_sentences(filename, char):\n",
        "    try:\n",
        "        with open(filename, 'r') as file:\n",
        "            text = file.read().lower()\n",
        "            char_count = text.count(char)\n",
        "            print(f\"The character '{char}' appears {char_count} times in the file.\")\n",
        "            sentences = text.split('.')\n",
        "            for sentence in sentences:\n",
        "                if sentence.strip().startswith(('A', 'B', 'C', 'D', 'E', 'F', 'G', 'H', 'I', 'J', 'K', 'L', 'M', 'N', 'O', 'P', 'Q', 'R', 'S', 'T', 'U', 'V', 'W', 'X', 'Y', 'Z')):\n",
        "                    print(sentence.strip() + '.')\n",
        "\n",
        "    except FileNotFoundError:\n",
        "        print(\"File not found!\")\n",
        "\n",
        "filename = input(\"Enter the file name: \")\n",
        "char = input(\"Enter the character to count: \")\n",
        "count_char_and_display_sentences(filename, char)\n"
      ]
    },
    {
      "cell_type": "code",
      "source": [
        "#1b\n",
        "import struct\n",
        "\n",
        "def write_records_to_file(filename, num_records):\n",
        "    try:\n",
        "        with open(filename, 'wb') as file:\n",
        "            for _ in range(num_records):\n",
        "                item_no = int(input(\"Enter Item No: \"))\n",
        "                item_name = input(\"Enter Item Name: \")\n",
        "                qty = int(input(\"Enter Quantity: \"))\n",
        "                price = float(input(\"Enter Price per item: \"))\n",
        "\n",
        "                # Packing data into binary format\n",
        "                packed_data = struct.pack('i 20s i f', item_no, item_name.encode('utf-8'), qty, price)\n",
        "\n",
        "                # Writing packed data to the file\n",
        "                file.write(packed_data)\n",
        "\n",
        "                print(\"Record added successfully.\")\n",
        "    except IOError:\n",
        "        print(\"Error occurred while writing to file.\")\n",
        "\n",
        "def display_records_from_file(filename):\n",
        "    try:\n",
        "        with open(filename, 'rb') as file:\n",
        "            while True:\n",
        "                packed_data = file.read(struct.calcsize('i 20s i f'))\n",
        "                if not packed_data:\n",
        "                    break\n",
        "\n",
        "                # Unpacking data from binary format\n",
        "                unpacked_data = struct.unpack('i 20s i f', packed_data)\n",
        "\n",
        "                item_no, item_name, qty, price = unpacked_data\n",
        "                item_name = item_name.decode('utf-8')\n",
        "                amount = qty * price\n",
        "\n",
        "                # Displaying the records\n",
        "                print(\"Item No:\", item_no)\n",
        "                print(\"Item Name:\", item_name.rstrip('\\x00'))\n",
        "                print(\"Quantity:\", qty)\n",
        "                print(\"Price per item:\", price)\n",
        "                print(\"Amount:\", amount)\n",
        "                print()\n",
        "    except FileNotFoundError:\n",
        "        print(\"File not found!\")\n",
        "    except struct.error:\n",
        "        print(\"Error occurred while reading from file.\")\n",
        "\n",
        "filename = input(\"Enter the filename for records: \")\n",
        "num_records = int(input(\"Enter the number of records to enter: \"))\n",
        "\n",
        "write_records_to_file(filename, num_records)\n",
        "print(\"\\nRecords saved to file.\")\n",
        "print(\"\\nDisplaying records from file:\")\n",
        "display_records_from_file(filename)\n"
      ],
      "metadata": {
        "colab": {
          "base_uri": "https://localhost:8080/"
        },
        "id": "wc2LEGmTjS8z",
        "outputId": "68af9d95-cc26-4498-8a56-1aa691cdda8c"
      },
      "execution_count": 6,
      "outputs": [
        {
          "output_type": "stream",
          "name": "stdout",
          "text": [
            "Enter the filename for records: pika\n",
            "Enter the number of records to enter: 1\n",
            "Enter Item No: 1\n",
            "Enter Item Name: mango\n",
            "Enter Quantity: 2\n",
            "Enter Price per item: 3\n",
            "Record added successfully.\n",
            "\n",
            "Records saved to file.\n",
            "\n",
            "Displaying records from file:\n",
            "Item No: 1\n",
            "Item Name: mango\n",
            "Quantity: 2\n",
            "Price per item: 3.0\n",
            "Amount: 6.0\n",
            "\n"
          ]
        }
      ]
    },
    {
      "cell_type": "code",
      "source": [
        "#1c\n",
        "def read_questions(filename):\n",
        "    try:\n",
        "        with open(filename, 'r') as file:\n",
        "            questions = file.readlines()\n",
        "            return questions\n",
        "    except FileNotFoundError:\n",
        "        print(f\"Error: {filename} not found.\")\n",
        "        return []\n",
        "\n",
        "def read_answers(filename):\n",
        "    try:\n",
        "        with open(filename, 'r') as file:\n",
        "            answers = file.readlines()\n",
        "            return answers\n",
        "    except FileNotFoundError:\n",
        "        print(f\"Error: {filename} not found.\")\n",
        "        return []\n",
        "\n",
        "def generate_quiz(questions, answers):\n",
        "    if len(questions) != len(answers):\n",
        "        print(\"Error: Number of questions and answers do not match.\")\n",
        "        return\n",
        "\n",
        "    print(\"Quiz:\")\n",
        "    for i in range(len(questions)):\n",
        "        print(f\"{i+1}. {questions[i].strip()}\")\n",
        "\n",
        "    print(\"\\nAnswers:\")\n",
        "    for i in range(len(answers)):\n",
        "        print(f\"{i+1}. {answers[i].strip()}\")\n",
        "\n",
        "questions = read_questions(\"Questions.txt\")\n",
        "answers = read_answers(\"Answers.txt\")\n",
        "\n",
        "if questions and answers:\n",
        "    generate_quiz(questions, answers)\n"
      ],
      "metadata": {
        "colab": {
          "base_uri": "https://localhost:8080/"
        },
        "id": "2k2FZ1rKkFUD",
        "outputId": "32736315-ddf1-4146-da7c-4b7c24a457a1"
      },
      "execution_count": 2,
      "outputs": [
        {
          "output_type": "stream",
          "name": "stdout",
          "text": [
            "Error: Questions.txt not found.\n",
            "Error: Answers.txt not found.\n"
          ]
        }
      ]
    },
    {
      "cell_type": "code",
      "source": [
        "Questions = open(\"Questions.txt\", \"r\")\n",
        "Answers = open(\"Answers.txt\", \"r\")\n",
        "\n",
        "Q = Questions.read().split(\"\\n\")\n",
        "A = Answers.read().split(\"\\n\")\n",
        "\n",
        "Questions.close()\n",
        "Answers.close()\n",
        "\n",
        "print(\"Total Questions:\", len(Q) // 2)  # Dividing by 2 because each question consists of two lines\n",
        "\n",
        "# Extracting answers from the last character of each line in A\n",
        "ans = [a.upper() for a in A]  # No need to extract the last character, as each line contains only the answer\n",
        "\n",
        "for r in range(0, len(Q), 2):\n",
        "    print(\"\\n\", Q[r])\n",
        "    print(\"\\t\", Q[r + 1])\n",
        "    Flag = True\n",
        "    while Flag:\n",
        "        user_input = input(\"Enter Answer (A/B/C/D): \").upper()\n",
        "        if user_input in ['A', 'B', 'C', 'D']:\n",
        "            Flag = False\n",
        "        else:\n",
        "            print(\"Invalid input. Please enter A, B, C, or D.\")\n",
        "\n",
        "    correct_answer = ans[r // 2]\n",
        "    print(\"Correct Answer:\", correct_answer)  # Display the correct answer corresponding to the question"
      ],
      "metadata": {
        "id": "6JksjENIOri2",
        "colab": {
          "base_uri": "https://localhost:8080/"
        },
        "outputId": "aebe21a7-d594-4abc-9820-2232c6b4b8dc"
      },
      "execution_count": null,
      "outputs": [
        {
          "output_type": "stream",
          "name": "stdout",
          "text": [
            "Total Questions: 3\n",
            "\n",
            " 1. Who is the prime minister of India? \n",
            "\t A. Narendra Modi   B. Shivraj Patil C.Ram  D.Krishna\n",
            "Enter Answer (A/B/C/D): a\n",
            "Correct Answer: 1.A \n",
            "\n",
            " 2. Who is the President of USA? \n",
            "\t A. Donald Trump     B. Joe Biden  C.NOne   D.All\n",
            "Enter Answer (A/B/C/D): b\n",
            "Correct Answer: 2.B \n",
            "\n",
            " 3.What is the Capital of Karnataka?\n",
            "\t A. Bengaluru        B.Hyderabad   C.Both    D.None\n",
            "Enter Answer (A/B/C/D): a\n",
            "Correct Answer: 3.A\n"
          ]
        }
      ]
    },
    {
      "cell_type": "code",
      "source": [],
      "metadata": {
        "id": "ZoEBFbzYO5HN"
      },
      "execution_count": null,
      "outputs": []
    },
    {
      "cell_type": "code",
      "source": [
        "#2a\n",
        "#example_file = open(\"example.txt\", \"r+\")\n",
        "#bfile = open(\"bfile.dat\", \"wb\")\n",
        "#try_file = open(\"try.txt\", \"a+\")\n",
        "#btry_file = open(\"btry.dat\", \"rb\")\n"
      ],
      "metadata": {
        "id": "wdgP4a-kkctw"
      },
      "execution_count": null,
      "outputs": []
    },
    {
      "cell_type": "code",
      "source": [
        "#2b\n",
        "import pickle\n",
        "\n",
        "class Employee:\n",
        "    def __init__(self, name, age, salary, married, kids):\n",
        "        self.name = name\n",
        "        self.age = age\n",
        "        self.salary = salary\n",
        "        self.married = married\n",
        "        self.kids = kids\n",
        "\n",
        "    def __str__(self):\n",
        "        return f\"Employee(name={self.name}, age={self.age}, salary={self.salary}, married={self.married}, kids={self.kids})\"\n",
        "\n",
        "# Function to take employee input from the user\n",
        "def get_employee_input():\n",
        "    name = input(\"Enter employee name: \")\n",
        "    age = int(input(\"Enter employee age: \"))\n",
        "    salary = float(input(\"Enter employee salary: \"))\n",
        "    married = input(\"Is the employee married? (yes/no): \").lower() == \"yes\"\n",
        "    kids = int(input(\"Enter number of kids the employee has: \"))\n",
        "    return Employee(name, age, salary, married, kids)\n",
        "\n",
        "# Get employee input from the user\n",
        "emp1 = get_employee_input()\n",
        "\n",
        "# Serializing the object and saving it to a file\n",
        "with open(\"employee_data.pkl\", \"wb\") as file:\n",
        "    pickle.dump(emp1, file)\n",
        "\n",
        "# Loading the serialized object from the file\n",
        "with open(\"employee_data.pkl\", \"rb\") as file:\n",
        "    emp2 = pickle.load(file)\n",
        "\n",
        "# Displaying the loaded object\n",
        "print(\"\\nLoaded Employee Object:\")\n",
        "print(emp2)"
      ],
      "metadata": {
        "colab": {
          "base_uri": "https://localhost:8080/"
        },
        "id": "mTH3VMQhkzKq",
        "outputId": "86d82e0f-2a02-4a4a-802c-1ace1f55582a"
      },
      "execution_count": null,
      "outputs": [
        {
          "output_type": "stream",
          "name": "stdout",
          "text": [
            "Enter employee name: john\n",
            "Enter employee age: 32\n",
            "Enter employee salary: 320000\n",
            "Is the employee married? (yes/no): no\n",
            "Enter number of kids the employee has: 2\n",
            "\n",
            "Loaded Employee Object:\n",
            "Employee(name=john, age=32, salary=320000.0, married=False, kids=2)\n"
          ]
        }
      ]
    },
    {
      "cell_type": "code",
      "source": [
        "#2c\n",
        "# Opening the file in read mode\n",
        "with open(\"Questions.txt\", \"rb\") as f:\n",
        "    # Moving to the beginning of the file\n",
        "    f.seek(0)\n",
        "    print(\"Current position after seek(0):\", f.tell())\n",
        "\n",
        "    # Moving 100 bytes forward from the current position\n",
        "    f.seek(100, 1)\n",
        "    print(\"Current position after seek(100, 1):\", f.tell())\n",
        "\n",
        "    # Moving 10 bytes backward from the end of the file\n",
        "    f.seek(-10, 2)\n",
        "    print(\"Current position after seek(-10, 2):\", f.tell())\n",
        "\n",
        "    # Moving to the end of the file\n",
        "    f.seek(0, 2)\n",
        "    print(\"Current position after seek(0, 2):\", f.tell())\n"
      ],
      "metadata": {
        "id": "ly7I5EuolBkC",
        "colab": {
          "base_uri": "https://localhost:8080/"
        },
        "outputId": "024adc53-73ca-4975-8341-8d71e3b7a3be"
      },
      "execution_count": null,
      "outputs": [
        {
          "output_type": "stream",
          "name": "stdout",
          "text": [
            "Current position after seek(0): 0\n",
            "Current position after seek(100, 1): 2\n",
            "Current position after seek(-10, 2): 256\n",
            "Current position after seek(0, 2): 266\n"
          ]
        }
      ]
    },
    {
      "cell_type": "code",
      "source": [
        "#3a\n",
        "import sqlite3\n",
        "\n",
        "# Create or connect to the SQLite database\n",
        "conn = sqlite3.connect('employee.db')\n",
        "cursor = conn.cursor()\n",
        "\n",
        "# Create Employee table\n",
        "cursor.execute('''CREATE TABLE IF NOT EXISTS Employee (\n",
        "                    emp_ssn TEXT PRIMARY KEY,\n",
        "                    emp_name TEXT NOT NULL,\n",
        "                    emp_category TEXT NOT NULL,\n",
        "                    gross_sal REAL NOT NULL,\n",
        "                    basic_sal REAL NOT NULL\n",
        "                    )''')\n",
        "\n",
        "# Insert sample data into the table\n",
        "employee_data = [\n",
        "    ('123-45-6789', 'John Doe', 'Category A', 50000.0, 40000.0),\n",
        "    ('987-65-4321', 'Jane Smith', 'Category B', 60000.0, 45000.0),\n",
        "    ('456-78-9012', 'Alice Johnson', 'Category C', 70000.0, 50000.0)\n",
        "]\n",
        "\n",
        "cursor.executemany('INSERT INTO Employee VALUES (?, ?, ?, ?, ?)', employee_data)\n",
        "\n",
        "# Commit the changes\n",
        "conn.commit()\n",
        "\n",
        "# Function to compute net salary based on category\n",
        "def compute_net_salary(category, gross_sal, basic_sal):\n",
        "    if category == 'Category A':\n",
        "        return gross_sal - 0.1 * basic_sal  # 10% deduction for Category A\n",
        "    elif category == 'Category B':\n",
        "        return gross_sal - 0.15 * basic_sal  # 15% deduction for Category B\n",
        "    elif category == 'Category C':\n",
        "        return gross_sal - 0.2 * basic_sal  # 20% deduction for Category C\n",
        "    else:\n",
        "        return None\n",
        "\n",
        "# Query the database and compute net salary for each employee\n",
        "cursor.execute('SELECT * FROM Employee')\n",
        "employees = cursor.fetchall()\n",
        "\n",
        "print(\"Net Salary for Each Employee:\")\n",
        "for emp in employees:\n",
        "    net_salary = compute_net_salary(emp[2], emp[3], emp[4])\n",
        "    print(f\"Employee SSN: {emp[0]}, Name: {emp[1]}, Category: {emp[2]}, Net Salary: {net_salary}\")\n",
        "\n",
        "# Close the database connection\n",
        "conn.close()\n"
      ],
      "metadata": {
        "colab": {
          "base_uri": "https://localhost:8080/"
        },
        "id": "BCz0mIxRlo27",
        "outputId": "f82d6729-e8ff-4710-9e56-636b0ae8095c"
      },
      "execution_count": null,
      "outputs": [
        {
          "output_type": "stream",
          "name": "stdout",
          "text": [
            "Net Salary for Each Employee:\n",
            "Employee SSN: 123-45-6789, Name: John Doe, Category: Category A, Net Salary: 46000.0\n",
            "Employee SSN: 987-65-4321, Name: Jane Smith, Category: Category B, Net Salary: 53250.0\n",
            "Employee SSN: 456-78-9012, Name: Alice Johnson, Category: Category C, Net Salary: 60000.0\n"
          ]
        }
      ]
    },
    {
      "cell_type": "code",
      "source": [
        "#4\n",
        "import sqlite3\n",
        "\n",
        "# Create a connection to the database\n",
        "conn = sqlite3.connect('library.db')\n",
        "c = conn.cursor()\n",
        "\n",
        "# Create Books table\n",
        "c.execute('''CREATE TABLE IF NOT EXISTS Books\n",
        "             (id INTEGER PRIMARY KEY,\n",
        "              name TEXT,\n",
        "              total_count INTEGER,\n",
        "              available_count INTEGER)''')\n",
        "\n",
        "# Function to insert values into the Books table\n",
        "def insert_book(id, name, total_count):\n",
        "    available_count = total_count\n",
        "    c.execute(\"INSERT INTO Books (id, name, total_count, available_count) VALUES (?, ?, ?, ?)\",\n",
        "              (id, name, total_count, available_count))\n",
        "    conn.commit()\n",
        "\n",
        "# Function to borrow a book\n",
        "def borrow_book(book_id):\n",
        "    c.execute(\"SELECT * FROM Books WHERE id=?\", (book_id,))\n",
        "    book = c.fetchone()\n",
        "    if book:\n",
        "        if book[3] > 0:\n",
        "            c.execute(\"UPDATE Books SET available_count = available_count - 1 WHERE id=?\", (book_id,))\n",
        "            conn.commit()\n",
        "            print(\"Book borrowed successfully.\")\n",
        "        else:\n",
        "            print(\"Sorry, the book is not available for borrowing.\")\n",
        "    else:\n",
        "        print(\"Book not found.\")\n",
        "\n",
        "# Function to return a book\n",
        "def return_book(book_id):\n",
        "    c.execute(\"SELECT * FROM Books WHERE id=?\", (book_id,))\n",
        "    book = c.fetchone()\n",
        "    if book:\n",
        "        c.execute(\"UPDATE Books SET available_count = available_count + 1 WHERE id=?\", (book_id,))\n",
        "        conn.commit()\n",
        "        print(\"Book returned successfully.\")\n",
        "    else:\n",
        "        print(\"Book not found.\")\n",
        "\n",
        "# Inserting values into the Books table\n",
        "insert_book(35, 'king', 5)\n",
        "insert_book(133, 'Harry Potter', 3)\n",
        "\n",
        "# Sample usage of borrow_book and return_book functions\n",
        "# User inputs\n",
        "book_id = input(\"Enter the book ID: \")\n",
        "action = input(\"Do you want to borrow or return the book? (Type 'borrow' or 'return'): \")\n",
        "\n",
        "# Perform action based on user input\n",
        "if action == \"borrow\":\n",
        "    borrow_book(book_id)\n",
        "elif action == \"return\":\n",
        "    return_book(book_id)\n",
        "\n",
        "# Close the connection\n",
        "conn.close()\n"
      ],
      "metadata": {
        "colab": {
          "base_uri": "https://localhost:8080/"
        },
        "id": "kIQGe-JbmZM9",
        "outputId": "b742c7db-9e99-4520-8bc0-3bb0abd02f0e"
      },
      "execution_count": null,
      "outputs": [
        {
          "output_type": "stream",
          "name": "stdout",
          "text": [
            "Enter the book ID: 133\n",
            "Do you want to borrow or return the book? (Type 'borrow' or 'return'): borrow\n",
            "Book borrowed successfully.\n"
          ]
        }
      ]
    },
    {
      "cell_type": "code",
      "source": [
        "#5a\n",
        "import numpy as np\n",
        "\n",
        "# Create a 1D NumPy array filled with zeros\n",
        "zeros_1d = np.zeros(5)  # Creating a 1D array of length 5 filled with zeros\n",
        "print(\"1D Array:\")\n",
        "print(zeros_1d)\n",
        "\n",
        "# Create a 2D NumPy array filled with zeros\n",
        "zeros_2d = np.zeros((3, 4))  # Creating a 2D array of shape (3, 4) filled with zeros\n",
        "print(\"\\n2D Array:\")\n",
        "print(zeros_2d)\n"
      ],
      "metadata": {
        "colab": {
          "base_uri": "https://localhost:8080/"
        },
        "id": "HGrM-arzmppt",
        "outputId": "5257ed50-5935-462e-d6df-21e9c48c00e1"
      },
      "execution_count": null,
      "outputs": [
        {
          "output_type": "stream",
          "name": "stdout",
          "text": [
            "1D Array:\n",
            "[0. 0. 0. 0. 0.]\n",
            "\n",
            "2D Array:\n",
            "[[0. 0. 0. 0.]\n",
            " [0. 0. 0. 0.]\n",
            " [0. 0. 0. 0.]]\n"
          ]
        }
      ]
    },
    {
      "cell_type": "code",
      "source": [
        "#5b\n",
        "import numpy as np\n",
        "\n",
        "# Create a 1D NumPy array filled with ones\n",
        "ones_1d = np.ones(5)  # Creating a 1D array of length 5 filled with ones\n",
        "print(\"1D Array:\")\n",
        "print(ones_1d)\n",
        "\n",
        "# Create a 2D NumPy array filled with ones\n",
        "ones_2d = np.ones((3, 4))  # Creating a 2D array of shape (3, 4) filled with ones\n",
        "print(\"\\n2D Array:\")\n",
        "print(ones_2d)\n"
      ],
      "metadata": {
        "colab": {
          "base_uri": "https://localhost:8080/"
        },
        "id": "2osf5J47m9ky",
        "outputId": "aa05180d-a7c0-4fa0-fc59-6ba234002653"
      },
      "execution_count": null,
      "outputs": [
        {
          "output_type": "stream",
          "name": "stdout",
          "text": [
            "1D Array:\n",
            "[1. 1. 1. 1. 1.]\n",
            "\n",
            "2D Array:\n",
            "[[1. 1. 1. 1.]\n",
            " [1. 1. 1. 1.]\n",
            " [1. 1. 1. 1.]]\n"
          ]
        }
      ]
    },
    {
      "cell_type": "code",
      "source": [
        "#5c\n",
        "import numpy as np\n",
        "\n",
        "# Create a sample NumPy array\n",
        "array = np.array([1, 2, 3, 4, 5, 6, 7, 8, 9, 10])\n",
        "\n",
        "# Slice elements from index 4 to the end of the array\n",
        "sliced_array = array[4:]\n",
        "print(\"Sliced Array:\")\n",
        "print(sliced_array)\n"
      ],
      "metadata": {
        "colab": {
          "base_uri": "https://localhost:8080/"
        },
        "id": "eWekUj3CnEo1",
        "outputId": "2a89da8c-a213-4ae0-9889-bff7e7bc3b14"
      },
      "execution_count": null,
      "outputs": [
        {
          "output_type": "stream",
          "name": "stdout",
          "text": [
            "Sliced Array:\n",
            "[ 5  6  7  8  9 10]\n"
          ]
        }
      ]
    },
    {
      "cell_type": "code",
      "source": [
        "#5d\n",
        "import numpy as np\n",
        "\n",
        "# Create a sample NumPy array\n",
        "array = np.array([1, 2, 3, 4, 5, 6, 7, 8, 9, 10])\n",
        "\n",
        "# Slice from the index 3 from the end to index 1 from the end\n",
        "sliced_array = array[-3:-1]\n",
        "print(\"Sliced Array:\")\n",
        "print(sliced_array)\n"
      ],
      "metadata": {
        "colab": {
          "base_uri": "https://localhost:8080/"
        },
        "id": "pX0apCxenMc6",
        "outputId": "50ad6f5f-7f40-4cd6-b0a2-2a7bd1038f83"
      },
      "execution_count": null,
      "outputs": [
        {
          "output_type": "stream",
          "name": "stdout",
          "text": [
            "Sliced Array:\n",
            "[8 9]\n"
          ]
        }
      ]
    },
    {
      "cell_type": "code",
      "source": [
        "#5e\n",
        "import numpy as np\n",
        "\n",
        "def add_arrays(arr1, arr2):\n",
        "    return arr1 + arr2\n",
        "\n",
        "# Test the function\n",
        "arr1 = np.array([[1, 2], [3, 4]])\n",
        "arr2 = np.array([[10, 20], [30, 40]])\n",
        "\n",
        "result = add_arrays(arr1, arr2)\n",
        "print(\"Element-wise sum of the arrays:\")\n",
        "print(result)\n"
      ],
      "metadata": {
        "colab": {
          "base_uri": "https://localhost:8080/"
        },
        "id": "z1XhTJpZnVd3",
        "outputId": "4dc744da-89f2-4d7e-ff64-11b366f4e0c5"
      },
      "execution_count": null,
      "outputs": [
        {
          "output_type": "stream",
          "name": "stdout",
          "text": [
            "Element-wise sum of the arrays:\n",
            "[[11 22]\n",
            " [33 44]]\n"
          ]
        }
      ]
    },
    {
      "cell_type": "code",
      "source": [
        "#5f\n",
        "import numpy as np\n",
        "\n",
        "# Create a NumPy array\n",
        "array = np.array([[1, 2, 3], [4, 5, 6]])\n",
        "\n",
        "# Find the sum of all elements in the array\n",
        "sum_of_elements = np.sum(array)\n",
        "\n",
        "print(\"Sum of all elements in the array:\", sum_of_elements)\n"
      ],
      "metadata": {
        "colab": {
          "base_uri": "https://localhost:8080/"
        },
        "id": "iQhHQLO6n67D",
        "outputId": "a72defa0-620a-48b3-d14d-a5d1833c6406"
      },
      "execution_count": null,
      "outputs": [
        {
          "output_type": "stream",
          "name": "stdout",
          "text": [
            "Sum of all elements in the array: 21\n"
          ]
        }
      ]
    },
    {
      "cell_type": "code",
      "source": [
        "#5g\n",
        "#1)\n",
        "# Find the maximum of the given numbers\n",
        "maximum = max(4, 12, 43.3, 19, 100)\n",
        "print(\"Maximum of 4, 12, 43.3, 19, 100:\", maximum)\n",
        "#2)\n",
        "# Given set of values\n",
        "values = [4, 12, 43.3, 19, \"HelloProgramming\"]\n",
        "\n",
        "# Filter out non-numeric values\n",
        "numeric_values = [value for value in values if isinstance(value, (int, float))]\n",
        "\n",
        "# Check if there are numeric values\n",
        "if numeric_values:\n",
        "    minimum = min(numeric_values)\n",
        "    print(\"Minimum:\", minimum)\n",
        "else:\n",
        "    print(\"No numeric values found.\")\n",
        "#3)\n",
        "# Given list of words\n",
        "words = [\"GoodMorning\", \"Evening\", \"algorithm\", \"programming\"]\n",
        "\n",
        "# Find the word occurring first alphabetically\n",
        "first_word = min(words)\n",
        "print(\"First word alphabetically:\", first_word)\n"
      ],
      "metadata": {
        "colab": {
          "base_uri": "https://localhost:8080/"
        },
        "id": "fOHSfUTboC82",
        "outputId": "24675742-0ff9-444e-a42b-30c3afa8ada6"
      },
      "execution_count": null,
      "outputs": [
        {
          "output_type": "stream",
          "name": "stdout",
          "text": [
            "Maximum of 4, 12, 43.3, 19, 100: 100\n",
            "Minimum: 4\n",
            "First word alphabetically: Evening\n"
          ]
        }
      ]
    },
    {
      "cell_type": "code",
      "source": [
        "#5h\n",
        "#1)\n",
        "import numpy as np\n",
        "\n",
        "# Create a list\n",
        "lst = [[4, 3, 2], [2, 1, 4]]\n",
        "\n",
        "# Convert the list to a NumPy array\n",
        "array = np.array(lst)\n",
        "\n",
        "# Sort the array along axis 1 (row-wise)\n",
        "sorted_array = np.sort(array, axis=1)\n",
        "\n",
        "print(\"Sorted array along axis 1:\")\n",
        "print(sorted_array)\n",
        "#2)\n",
        "fruits = np.array([\"Apple\", \"Orange\", \"Banana\", \"Grapes\", \"Pineapple\"])\n",
        "\n",
        "# Sort the array in alphabetical order\n",
        "sorted_indices = np.argsort(fruits)\n",
        "\n",
        "print(\"Sorted array of fruits:\")\n",
        "print(fruits[sorted_indices])\n",
        "\n",
        "print(\"Index positions:\")\n",
        "print(sorted_indices)\n"
      ],
      "metadata": {
        "colab": {
          "base_uri": "https://localhost:8080/"
        },
        "id": "BEMfZD9foS0j",
        "outputId": "fd424130-7a9e-43d0-b303-746dd9059938"
      },
      "execution_count": null,
      "outputs": [
        {
          "output_type": "stream",
          "name": "stdout",
          "text": [
            "Sorted array along axis 1:\n",
            "[[2 3 4]\n",
            " [1 2 4]]\n",
            "Sorted array of fruits:\n",
            "['Apple' 'Banana' 'Grapes' 'Orange' 'Pineapple']\n",
            "Index positions:\n",
            "[0 2 3 1 4]\n"
          ]
        }
      ]
    },
    {
      "cell_type": "code",
      "source": [
        "import pandas as pd\n",
        "\n",
        "# Create a dictionary with the given data\n",
        "data = {\n",
        "    'name': ['Xavier','Ann', 'Jana', 'Yi', 'Robin'],\n",
        "    'city': ['Mexico City','Toronto', 'Prague', 'Shanghai', 'Manchester'],\n",
        "    'age': [41, 28, 33, 34, 38],\n",
        "    'py-score': [88.0, 79.0, 81.0, 80.0,68.0]\n",
        "}\n",
        "\n",
        "# Create a DataFrame\n",
        "df = pd.DataFrame(data,index=[100,101,102,104,105])\n",
        "\n",
        "# Display the DataFrame\n",
        "print(df)\n"
      ],
      "metadata": {
        "colab": {
          "base_uri": "https://localhost:8080/"
        },
        "id": "D-o_R8_bojlF",
        "outputId": "d903c44e-1804-4c1f-eca5-d905ba674d2f"
      },
      "execution_count": null,
      "outputs": [
        {
          "output_type": "stream",
          "name": "stdout",
          "text": [
            "       name         city  age  py-score\n",
            "100  Xavier  Mexico City   41      88.0\n",
            "101     Ann      Toronto   28      79.0\n",
            "102    Jana       Prague   33      81.0\n",
            "104      Yi     Shanghai   34      80.0\n",
            "105   Robin   Manchester   38      68.0\n"
          ]
        }
      ]
    },
    {
      "cell_type": "code",
      "source": [
        "# i. Display only first two rows\n",
        "print(\"First two rows:\")\n",
        "print(df.head(2))\n",
        "\n",
        "# ii. Display only last two rows\n",
        "print(\"\\nLast two rows:\")\n",
        "print(df.tail(2))\n",
        "\n",
        "# iii. Extract the py-score of Toronto column\n",
        "py_score_toronto = df.loc[df['city'] == 'Toronto', 'py-score']\n",
        "print(\"\\nPy-score of Toronto:\")\n",
        "print(py_score_toronto)\n",
        "\n",
        "# iv. Display loc of last row\n",
        "last_row_loc = df.iloc[-1]\n",
        "print(\"\\nLocation of last row:\")\n",
        "print(last_row_loc)\n",
        "\n",
        "# v. Calculate mean, min, max, standard deviation\n",
        "mean_py_score = df['py-score'].mean()\n",
        "min_py_score = df['py-score'].min()\n",
        "max_py_score = df['py-score'].max()\n",
        "std_py_score = df['py-score'].std()\n",
        "\n",
        "print(\"\\nMean Py-score:\", mean_py_score)\n",
        "print(\"Min Py-score:\", min_py_score)\n",
        "print(\"Max Py-score:\", max_py_score)\n",
        "print(\"Standard Deviation of Py-score:\", std_py_score)\n",
        "\n",
        "# vi. Print the basic stats using describe() method\n",
        "print(\"\\nBasic stats of DataFrame:\")\n",
        "print(df.describe())\n"
      ],
      "metadata": {
        "colab": {
          "base_uri": "https://localhost:8080/"
        },
        "id": "9R-M0MXApPV4",
        "outputId": "d3e77105-7022-4206-8ca1-7a503479fa94"
      },
      "execution_count": null,
      "outputs": [
        {
          "output_type": "stream",
          "name": "stdout",
          "text": [
            "First two rows:\n",
            "       name         city  age  py-score\n",
            "100  Xavier  Mexico City   41      88.0\n",
            "101     Ann      Toronto   28      79.0\n",
            "\n",
            "Last two rows:\n",
            "      name        city  age  py-score\n",
            "104     Yi    Shanghai   34      80.0\n",
            "105  Robin  Manchester   38      68.0\n",
            "\n",
            "Py-score of Toronto:\n",
            "101    79.0\n",
            "Name: py-score, dtype: float64\n",
            "\n",
            "Location of last row:\n",
            "name             Robin\n",
            "city        Manchester\n",
            "age                 38\n",
            "py-score          68.0\n",
            "Name: 105, dtype: object\n",
            "\n",
            "Mean Py-score: 79.2\n",
            "Min Py-score: 68.0\n",
            "Max Py-score: 88.0\n",
            "Standard Deviation of Py-score: 7.19027120489902\n",
            "\n",
            "Basic stats of DataFrame:\n",
            "             age   py-score\n",
            "count   5.000000   5.000000\n",
            "mean   34.800000  79.200000\n",
            "std     4.969909   7.190271\n",
            "min    28.000000  68.000000\n",
            "25%    33.000000  79.000000\n",
            "50%    34.000000  80.000000\n",
            "75%    38.000000  81.000000\n",
            "max    41.000000  88.000000\n"
          ]
        }
      ]
    },
    {
      "cell_type": "code",
      "source": [
        "import pandas as pd\n",
        "import numpy as np\n",
        "\n",
        "# Create a dictionary with the given data\n",
        "data = {\n",
        "    'Date': ['2009-02-11', '2009-02-12', '2009-02-13', '2009-02-17', '2009-02-18'],\n",
        "    'High': [30.20, 30.28, 30.45, 29.35, 29.35],\n",
        "    'Low': [29.41, 29.32, 29.96, 28.74, 28.56],\n",
        "    'Close': [29.87, 30.24, 30.10, 28.90, 28.92]\n",
        "}\n",
        "\n",
        "# Create a DataFrame\n",
        "df = pd.DataFrame(data)\n",
        "\n",
        "# Create a boolean series\n",
        "bools = pd.Series([True, False, False, True, False])\n",
        "\n",
        "# Filter the DataFrame based on the boolean series\n",
        "filtered_df = df[bools]\n",
        "\n",
        "# Display the filtered DataFrame\n",
        "print(filtered_df)\n"
      ],
      "metadata": {
        "colab": {
          "base_uri": "https://localhost:8080/"
        },
        "id": "WlYo-tmhpc2W",
        "outputId": "3502e035-a2a9-4475-d258-3e9a7fcd1a6d"
      },
      "execution_count": null,
      "outputs": [
        {
          "output_type": "stream",
          "name": "stdout",
          "text": [
            "         Date   High    Low  Close\n",
            "0  2009-02-11  30.20  29.41  29.87\n",
            "3  2009-02-17  29.35  28.74  28.90\n"
          ]
        }
      ]
    },
    {
      "cell_type": "code",
      "source": [],
      "metadata": {
        "id": "8UDbJUcMqc_8"
      },
      "execution_count": null,
      "outputs": []
    }
  ]
}